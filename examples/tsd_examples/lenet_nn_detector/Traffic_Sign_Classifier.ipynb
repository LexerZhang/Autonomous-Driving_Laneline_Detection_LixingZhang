{
 "cells": [
  {
   "cell_type": "markdown",
   "metadata": {},
   "source": [
    "# LeNet Traffic Sign Classifier for GTSRB Datasets"
   ]
  },
  {
   "cell_type": "markdown",
   "metadata": {},
   "source": [
    "---\n",
    "## Step 0: Load The Data"
   ]
  },
  {
   "cell_type": "code",
   "execution_count": 1,
   "metadata": {
    "pycharm": {
     "name": "#%%\n"
    }
   },
   "outputs": [],
   "source": [
    "# Dependencies\n",
    "import pickle\n",
    "import matplotlib.pyplot as plt\n",
    "from Traffic_Sign_Classification.helper_functions import data_processing as dp\n",
    "import numpy as np\n",
    "from sklearn.utils import shuffle\n",
    "import os"
   ]
  },
  {
   "cell_type": "code",
   "execution_count": 2,
   "metadata": {},
   "outputs": [
    {
     "name": "stdout",
     "output_type": "stream",
     "text": [
      "Successfully loaded the data!\n"
     ]
    }
   ],
   "source": [
    "# Load pickled data\n",
    "\n",
    "training_file = \"./datasets/normalized_data/train.p\"\n",
    "validation_file = \"./datasets/normalized_data/valid.p\"\n",
    "testing_file = \"./datasets/normalized_data/test.p\"\n",
    "\n",
    "with open(training_file, mode='rb') as f:\n",
    "    train = pickle.load(f)\n",
    "with open(validation_file, mode='rb') as f:\n",
    "    valid = pickle.load(f)\n",
    "with open(testing_file, mode='rb') as f:\n",
    "    test = pickle.load(f)\n",
    "    \n",
    "X_train, y_train = train['features'], train['labels']\n",
    "X_valid, y_valid = valid['features'], valid['labels']\n",
    "X_test, y_test = test['features'], test['labels']\n",
    "\n",
    "print(\"Successfully loaded the data!\")"
   ]
  },
  {
   "cell_type": "markdown",
   "metadata": {},
   "source": [
    "---\n",
    "\n",
    "## Step 1: Dataset Summary & Exploration\n",
    "\n",
    "The pickled data is a dictionary with 4 key/value pairs:\n",
    "\n",
    "- `'features'` is a 4D array containing raw pixel data of the traffic sign images, (num examples, width, height, channels).\n",
    "- `'labels'` is a 1D array containing the label/class id of the traffic sign. The file `signnames.csv` contains id -> name mappings for each id.\n",
    "- `'sizes'` is a list containing tuples, (width, height) representing the original width and height the image.\n",
    "- `'coords'` is a list containing tuples, (x1, y1, x2, y2) representing coordinates of a bounding box around the sign in the image. **THESE COORDINATES ASSUME THE ORIGINAL IMAGE. THE PICKLED DATA CONTAINS RESIZED VERSIONS (32 by 32) OF THESE IMAGES**\n",
    "\n",
    "Complete the basic data summary below. Use python, numpy and/or pandas methods to calculate the data summary rather than hard coding the results. For example, the [pandas shape method](http://pandas.pydata.org/pandas-docs/stable/generated/pandas.DataFrame.shape.html) might be useful for calculating some of the summary results. "
   ]
  },
  {
   "cell_type": "markdown",
   "metadata": {},
   "source": [
    "### Provide a Basic Summary of the Data Set Using Python, Numpy and/or Pandas"
   ]
  },
  {
   "cell_type": "code",
   "execution_count": 6,
   "metadata": {},
   "outputs": [
    {
     "name": "stdout",
     "output_type": "stream",
     "text": [
      "Number of training examples = 34799\n",
      "Number of testing examples = 12630\n",
      "Image data shape = (32, 32)\n",
      "Number of classes = 43\n"
     ]
    }
   ],
   "source": [
    "### Replace each question mark with the appropriate value. \n",
    "### Use python, pandas or numpy methods rather than hard coding the results\n",
    "\n",
    "# Number of training examples\n",
    "n_train = X_train.shape[0]\n",
    "\n",
    "# Number of validation examples\n",
    "n_validation = X_valid.shape[0]\n",
    "\n",
    "# Number of testing examples.\n",
    "n_test = X_test.shape[0]\n",
    "\n",
    "# What's the shape of an traffic sign image?\n",
    "image_shape = X_train.shape[1:3]\n",
    "\n",
    "# How many unique classes/labels there are in the dataset.\n",
    "n_classes = len(np.unique(y_train))\n",
    "\n",
    "print(\"Number of training examples =\", n_train)\n",
    "print(\"Number of testing examples =\", n_test)\n",
    "print(\"Image data shape =\", image_shape)\n",
    "print(\"Number of classes =\", n_classes)"
   ]
  },
  {
   "cell_type": "markdown",
   "metadata": {},
   "source": [
    "### Include an exploratory visualization of the dataset"
   ]
  },
  {
   "cell_type": "markdown",
   "metadata": {},
   "source": [
    "Visualize the German Traffic Signs Dataset using the pickled file.\n"
   ]
  },
  {
   "cell_type": "code",
   "execution_count": 7,
   "metadata": {},
   "outputs": [
    {
     "data": {
      "text/plain": "<matplotlib.image.AxesImage at 0x7efd31397438>"
     },
     "execution_count": 7,
     "metadata": {},
     "output_type": "execute_result"
    },
    {
     "data": {
      "text/plain": "<Figure size 432x288 with 1 Axes>",
      "image/png": "[encoded data removed]"
     },
     "metadata": {
      "needs_background": "light"
     },
     "output_type": "display_data"
    }
   ],
   "source": [
    "%matplotlib inline\n",
    "\n",
    "plt.imshow(X_train[10000])"
   ]
  },
  {
   "cell_type": "markdown",
   "metadata": {},
   "source": [
    "----\n",
    "\n",
    "## Step 2: Design and Test a Model Architecture\n"
   ]
  },
  {
   "cell_type": "markdown",
   "metadata": {},
   "source": [
    "### Pre-process the Data Set (normalization, grayscale, etc.)"
   ]
  },
  {
   "cell_type": "markdown",
   "metadata": {
    "pycharm": {
     "name": "#%% md\n"
    }
   },
   "source": [
    "#### 1. Turn the data set into greyscale"
   ]
  },
  {
   "cell_type": "code",
   "execution_count": 8,
   "metadata": {},
   "outputs": [
    {
     "data": {
      "text/plain": "<matplotlib.image.AxesImage at 0x7efd31c21898>"
     },
     "execution_count": 8,
     "metadata": {},
     "output_type": "execute_result"
    },
    {
     "data": {
      "text/plain": "<Figure size 432x288 with 1 Axes>",
      "image/png": "[encoded data removed]"
     },
     "metadata": {
      "needs_background": "light"
     },
     "output_type": "display_data"
    }
   ],
   "source": [
    "# dp.img_array_rgb2gray(X_train[10000])\n",
    "X_test_grey = []\n",
    "for i in range(X_test.shape[0]):\n",
    "    X_test_grey.append(dp.img_array_rgb2gray(X_test[i]))\n",
    "X_test_grey = np.array(X_test_grey)\n",
    "\n",
    "X_train_grey = []\n",
    "for i in range(X_train.shape[0]):\n",
    "    X_train_grey.append(dp.img_array_rgb2gray(X_train[i]))\n",
    "X_train_grey = np.array(X_train_grey).astype(\"float32\")\n",
    "\n",
    "X_valid_grey = []\n",
    "for i in range(X_valid.shape[0]):\n",
    "    X_valid_grey.append(dp.img_array_rgb2gray(X_valid[i]))\n",
    "X_valid_grey = np.array(X_valid_grey)\n",
    "\n",
    "plt.imshow(X_train_grey[10000], cmap=\"gray\")"
   ]
  },
  {
   "cell_type": "markdown",
   "metadata": {
    "pycharm": {
     "name": "#%% md\n"
    }
   },
   "source": [
    "#### 2. Shuffle the data and add a dimension to X_train"
   ]
  },
  {
   "cell_type": "code",
   "execution_count": 9,
   "metadata": {
    "pycharm": {
     "name": "#%%\n"
    }
   },
   "outputs": [],
   "source": [
    "X_train_grey = X_train_grey[:, :, :, np.newaxis]\n",
    "X_valid_grey = X_valid_grey[:, :, :, np.newaxis]\n",
    "X_test_grey = X_test_grey[:, :, :, np.newaxis]\n",
    "X_train_grey, y_train = shuffle(X_train_grey, y_train)"
   ]
  },
  {
   "cell_type": "markdown",
   "metadata": {},
   "source": [
    "### Model Architecture\n",
    "\n",
    "#### 1. The Tensorflow Model"
   ]
  },
  {
   "cell_type": "code",
   "execution_count": 10,
   "metadata": {
    "scrolled": true
   },
   "outputs": [],
   "source": [
    "from Traffic_Sign_Classification.lenet_structure import *"
   ]
  },
  {
   "cell_type": "markdown",
   "metadata": {},
   "source": [
    "### Train, Validate and Test the Model"
   ]
  },
  {
   "cell_type": "markdown",
   "metadata": {
    "pycharm": {
     "name": "#%% md\n"
    }
   },
   "source": [
    "#### 0. Whether to start a new training session"
   ]
  },
  {
   "cell_type": "code",
   "execution_count": 12,
   "metadata": {
    "pycharm": {
     "name": "#%%\n"
    }
   },
   "outputs": [],
   "source": [
    "new_train = True\n",
    "saved_file_prefix = \"./lenet_tf_ckpts/lenet\""
   ]
  },
  {
   "cell_type": "markdown",
   "metadata": {
    "pycharm": {
     "name": "#%% md\n"
    }
   },
   "source": [
    "#### 1. Build the tensorflow optimizer"
   ]
  },
  {
   "cell_type": "code",
   "execution_count": 13,
   "metadata": {
    "collapsed": true
   },
   "outputs": [
    {
     "name": "stdout",
     "output_type": "stream",
     "text": [
      "WARNING:tensorflow:From /home/lixing/Workspace/my_projects/self_driving_Lix/Traffic_Sign_Detection/lenet_structure.py:70: The name tf.nn.max_pool is deprecated. Please use tf.nn.max_pool2d instead.\n",
      "\n",
      "WARNING:tensorflow:From /home/lixing/Workspace/my_projects/self_driving_Lix/Traffic_Sign_Detection/lenet_structure.py:83: flatten (from tensorflow.python.layers.core) is deprecated and will be removed in a future version.\n",
      "Instructions for updating:\n",
      "Use keras.layers.flatten instead.\n",
      "WARNING:tensorflow:From /home/lixing/anaconda3/envs/autonomous_driving/lib/python3.6/site-packages/tensorflow_core/python/layers/core.py:332: Layer.apply (from tensorflow.python.keras.engine.base_layer) is deprecated and will be removed in a future version.\n",
      "Instructions for updating:\n",
      "Please use `layer.__call__` method instead.\n",
      "WARNING:tensorflow:From /home/lixing/Workspace/my_projects/self_driving_Lix/Traffic_Sign_Detection/lenet_structure.py:88: calling dropout (from tensorflow.python.ops.nn_ops) with keep_prob is deprecated and will be removed in a future version.\n",
      "Instructions for updating:\n",
      "Please use `rate` instead of `keep_prob`. Rate should be set to `rate = 1 - keep_prob`.\n",
      "WARNING:tensorflow:From <ipython-input-13-cc136a6faf8d>:8: softmax_cross_entropy_with_logits (from tensorflow.python.ops.nn_ops) is deprecated and will be removed in a future version.\n",
      "Instructions for updating:\n",
      "\n",
      "Future major versions of TensorFlow will allow gradients to flow\n",
      "into the labels input on backprop by default.\n",
      "\n",
      "See `tf.nn.softmax_cross_entropy_with_logits_v2`.\n",
      "\n"
     ]
    }
   ],
   "source": [
    "x = tf.placeholder(tf.float32, (None, 32, 32, 1))\n",
    "y = tf.placeholder(tf.int32, (None))\n",
    "one_hot_y = tf.one_hot(y, n_classes)\n",
    "keep_prob = tf.placeholder(tf.float32)\n",
    "\n",
    "tf_logits = lenet_tf(x, keep_prob)\n",
    "\n",
    "cross_entropy = tf.nn.softmax_cross_entropy_with_logits(labels=one_hot_y, logits=tf_logits)\n",
    "loss_operation = tf.reduce_mean(cross_entropy)\n",
    "optimizer = tf.train.AdamOptimizer(learning_rate = learning_rate_dacayed)\n",
    "training_operation = optimizer.minimize(loss_operation, global_step=global_step)"
   ]
  },
  {
   "cell_type": "markdown",
   "metadata": {
    "pycharm": {
     "name": "#%% md\n"
    }
   },
   "source": [
    "#### 2. Build the tensorflow evaluator"
   ]
  },
  {
   "cell_type": "code",
   "execution_count": 14,
   "metadata": {
    "pycharm": {
     "name": "#%%\n"
    }
   },
   "outputs": [],
   "source": [
    "correct_prediction = tf.equal(tf.argmax(tf_logits, 1), tf.argmax(one_hot_y, 1))\n",
    "accuracy_operation = tf.reduce_mean(tf.cast(correct_prediction, tf.float32))\n",
    "\n",
    "saver = tf.train.Saver()\n",
    "\n",
    "def evaluate(X_data, y_data):\n",
    "    num_examples = len(X_data)\n",
    "    total_accuracy = 0\n",
    "    sess = tf.get_default_session()\n",
    "    for offset in range(0, num_examples, BATCH_SIZE):\n",
    "        batch_x, batch_y = X_data[offset:offset+BATCH_SIZE], y_data[offset:offset+BATCH_SIZE]\n",
    "        accuracy = sess.run(accuracy_operation, feed_dict={x: batch_x, y: batch_y, keep_prob: 1})\n",
    "        total_accuracy += (accuracy * len(batch_x))\n",
    "    return total_accuracy / num_examples"
   ]
  },
  {
   "cell_type": "markdown",
   "metadata": {
    "pycharm": {
     "name": "#%% md\n"
    }
   },
   "source": [
    "#### 3. Train the Model"
   ]
  },
  {
   "cell_type": "code",
   "execution_count": 15,
   "metadata": {
    "pycharm": {
     "name": "#%%\n"
    }
   },
   "outputs": [
    {
     "name": "stdout",
     "output_type": "stream",
     "text": [
      "Training...\n",
      "EPOCH 1 ...\n",
      "Validation Accuracy = 0.395 Training Accuracy = 0.427\n",
      "\n",
      "EPOCH 2 ...\n",
      "EPOCH 3 ...\n",
      "EPOCH 4 ...\n",
      "EPOCH 5 ...\n",
      "EPOCH 6 ...\n",
      "Validation Accuracy = 0.854 Training Accuracy = 0.916\n",
      "\n",
      "EPOCH 7 ...\n",
      "EPOCH 8 ...\n",
      "EPOCH 9 ...\n",
      "EPOCH 10 ...\n",
      "EPOCH 11 ...\n",
      "Validation Accuracy = 0.909 Training Accuracy = 0.965\n",
      "\n",
      "EPOCH 12 ...\n",
      "EPOCH 13 ...\n",
      "EPOCH 14 ...\n",
      "EPOCH 15 ...\n",
      "EPOCH 16 ...\n",
      "Validation Accuracy = 0.924 Training Accuracy = 0.981\n",
      "\n",
      "EPOCH 17 ...\n",
      "EPOCH 18 ...\n",
      "EPOCH 19 ...\n",
      "EPOCH 20 ...\n",
      "EPOCH 21 ...\n",
      "Validation Accuracy = 0.928 Training Accuracy = 0.987\n",
      "\n",
      "EPOCH 22 ...\n",
      "EPOCH 23 ...\n",
      "EPOCH 24 ...\n",
      "EPOCH 25 ...\n",
      "EPOCH 26 ...\n",
      "Validation Accuracy = 0.937 Training Accuracy = 0.989\n",
      "\n",
      "EPOCH 27 ...\n",
      "EPOCH 28 ...\n",
      "EPOCH 29 ...\n",
      "EPOCH 30 ...\n",
      "EPOCH 31 ...\n",
      "Validation Accuracy = 0.942 Training Accuracy = 0.992\n",
      "\n",
      "EPOCH 32 ...\n",
      "EPOCH 33 ...\n",
      "EPOCH 34 ...\n",
      "EPOCH 35 ...\n",
      "EPOCH 36 ...\n",
      "Validation Accuracy = 0.937 Training Accuracy = 0.994\n",
      "\n",
      "EPOCH 37 ...\n",
      "EPOCH 38 ...\n",
      "EPOCH 39 ...\n",
      "EPOCH 40 ...\n",
      "EPOCH 41 ...\n",
      "Validation Accuracy = 0.945 Training Accuracy = 0.995\n",
      "\n",
      "EPOCH 42 ...\n",
      "EPOCH 43 ...\n",
      "EPOCH 44 ...\n",
      "EPOCH 45 ...\n",
      "EPOCH 46 ...\n",
      "Validation Accuracy = 0.943 Training Accuracy = 0.996\n",
      "\n",
      "EPOCH 47 ...\n",
      "EPOCH 48 ...\n",
      "EPOCH 49 ...\n",
      "EPOCH 50 ...\n",
      "EPOCH 51 ...\n",
      "Validation Accuracy = 0.943 Training Accuracy = 0.997\n",
      "\n",
      "EPOCH 52 ...\n",
      "EPOCH 53 ...\n",
      "EPOCH 54 ...\n",
      "EPOCH 55 ...\n",
      "EPOCH 56 ...\n",
      "Validation Accuracy = 0.940 Training Accuracy = 0.997\n",
      "\n",
      "EPOCH 57 ...\n",
      "EPOCH 58 ...\n",
      "EPOCH 59 ...\n",
      "EPOCH 60 ...\n",
      "EPOCH 61 ...\n",
      "Validation Accuracy = 0.943 Training Accuracy = 0.998\n",
      "\n",
      "EPOCH 62 ...\n",
      "EPOCH 63 ...\n",
      "EPOCH 64 ...\n",
      "EPOCH 65 ...\n",
      "EPOCH 66 ...\n",
      "Validation Accuracy = 0.943 Training Accuracy = 0.998\n",
      "\n",
      "EPOCH 67 ...\n",
      "EPOCH 68 ...\n",
      "Model saved. Final Result:\n",
      "Validation Accuracy = 0.944 Training Accuracy = 0.998\n"
     ]
    }
   ],
   "source": [
    "with tf.Session() as sess:\n",
    "    sess.run(tf.global_variables_initializer())\n",
    "    if new_train:\n",
    "        list_training_accuracy = [0]\n",
    "        list_validation_accuracy = [0]\n",
    "        stabled_times = 0\n",
    "\n",
    "        print(\"Training...\")\n",
    "        for i in range(EPOCHS):\n",
    "            X_train_grey, y_train = shuffle(X_train_grey, y_train)\n",
    "            for offset in range(0, n_train, BATCH_SIZE):\n",
    "                end = offset + BATCH_SIZE\n",
    "                batch_x, batch_y = X_train_grey[offset:end], y_train[offset:end]\n",
    "                sess.run(training_operation, feed_dict={x: batch_x, y: batch_y, keep_prob:drop_out_rate})\n",
    "\n",
    "            list_validation_accuracy.append(evaluate(X_valid_grey, y_valid))\n",
    "            list_training_accuracy.append(evaluate(X_train_grey, y_train))\n",
    "            print(\"EPOCH {} ...\".format(i+1))\n",
    "            if i % 5 == 0:\n",
    "                print(\"Validation Accuracy = {:.3f}\".format(list_validation_accuracy[-1]), \"Training Accuracy = {:.3f}\".format(list_training_accuracy[-1]))\n",
    "                print()\n",
    "\n",
    "            if abs(list_validation_accuracy[-1] - list_validation_accuracy[-2]) <= stable_gap:\n",
    "                stabled_times += 1\n",
    "            else:\n",
    "                stabled_times = 0\n",
    "\n",
    "            if stabled_times >= quit_stabled_times:\n",
    "                break\n",
    "\n",
    "        saver.save(sess, saved_file_prefix)\n",
    "        print(\"Model saved. Final Result:\")\n",
    "        print(\"Validation Accuracy = {:.3f}\".format(list_validation_accuracy[-1]), \"Training Accuracy = {:.3f}\".format(list_training_accuracy[-1]))"
   ]
  },
  {
   "cell_type": "markdown",
   "metadata": {},
   "source": [
    "#### 4. Evaluate the Model"
   ]
  },
  {
   "cell_type": "code",
   "execution_count": 19,
   "metadata": {
    "pycharm": {
     "name": "#%%\n"
    }
   },
   "outputs": [
    {
     "name": "stdout",
     "output_type": "stream",
     "text": [
      "INFO:tensorflow:Restoring parameters from ./lenet_tf_ckpts/lenet\n",
      "Test Accuracy = 0.925\n"
     ]
    }
   ],
   "source": [
    "with tf.Session() as sess:\n",
    "    saver.restore(sess, tf.train.latest_checkpoint(\"./lenet_tf_ckpts\"))\n",
    "\n",
    "    test_accuracy = evaluate(X_test_grey, y_test)\n",
    "    print(\"Test Accuracy = {:.3f}\".format(test_accuracy))"
   ]
  },
  {
   "cell_type": "markdown",
   "metadata": {},
   "source": [
    "#### 5. Draw the Training Curve"
   ]
  },
  {
   "cell_type": "code",
   "execution_count": 20,
   "metadata": {
    "pycharm": {
     "name": "#%%\n"
    }
   },
   "outputs": [
    {
     "data": {
      "text/plain": "<Figure size 432x288 with 1 Axes>",
      "image/png": "[encoded data removed]"
     },
     "metadata": {
      "needs_background": "light"
     },
     "output_type": "display_data"
    }
   ],
   "source": [
    "### Uncomment the following code for a new round of training\n",
    "if new_train:\n",
    "    xdata = np.arange(i + 2)\n",
    "    y_upper = np.ones(i + 2) * np.max(list_training_accuracy)\n",
    "    y_valid_upper = np.ones(i + 2) * np.max(list_validation_accuracy)\n",
    "    y_test_upper = np.ones(i + 2) * test_accuracy\n",
    "\n",
    "    fig = plt.figure()\n",
    "    ax = fig.add_subplot(1, 1, 1)\n",
    "    ax.plot(xdata, np.array(list_validation_accuracy), color='tab:blue')\n",
    "    ax.plot(xdata, np.array(list_training_accuracy), color='tab:green')\n",
    "    ax.plot(xdata, y_upper, color='tab:red')\n",
    "    ax.plot(xdata, y_valid_upper, color='tab:orange')\n",
    "    ax.plot(xdata, y_test_upper, color='tab:pink')\n",
    "\n",
    "    ax.set_xlim([5,i+5])\n",
    "    ax.set_ylim([0.7, 1.05])\n",
    "\n",
    "    fig.savefig(\"./references/results/training_curve.jpg\")"
   ]
  },
  {
   "cell_type": "markdown",
   "metadata": {},
   "source": [
    "---\n",
    "\n",
    "## Step 3: Test a Model on New Images\n",
    "\n",
    "To give yourself more insight into how your model is working, download at least five pictures of German traffic signs from the web and use your model to predict the traffic sign type.\n",
    "\n",
    "You may find `signnames.csv` useful as it contains mappings from the class id (integer) to the actual sign name."
   ]
  },
  {
   "cell_type": "markdown",
   "metadata": {},
   "source": [
    "### Load and Output the Images"
   ]
  },
  {
   "cell_type": "code",
   "execution_count": 21,
   "metadata": {
    "collapsed": true
   },
   "outputs": [
    {
     "data": {
      "text/plain": "<Figure size 432x288 with 5 Axes>",
      "image/png": "[encoded data removed]"
     },
     "metadata": {
      "needs_background": "light"
     },
     "output_type": "display_data"
    }
   ],
   "source": [
    "### Load the images and plot them here.\n",
    "### Feel free to use as many code cells as needed.\n",
    "root_dir = \"./references/test_image/normalized/\"\n",
    "\n",
    "accurate_pred = np.array([11, 18, 25, 26, 1])\n",
    "\n",
    "fig = plt.figure(1)\n",
    "subplot_index = 151\n",
    "img_list = []\n",
    "for filename in sorted(os.listdir(root_dir)):\n",
    "    plt.subplot(subplot_index)\n",
    "    img_list.append(plt.imread(root_dir+filename))\n",
    "    plt.imshow(img_list[-1], cmap=\"gray\")\n",
    "    subplot_index += 1"
   ]
  },
  {
   "cell_type": "markdown",
   "metadata": {},
   "source": [
    "### Predict the Sign Type for Each Image"
   ]
  },
  {
   "cell_type": "code",
   "execution_count": 23,
   "metadata": {
    "collapsed": true
   },
   "outputs": [
    {
     "name": "stdout",
     "output_type": "stream",
     "text": [
      "INFO:tensorflow:Restoring parameters from ./lenet_tf_ckpts/lenet\n",
      "The predicted classes for 5 new images are:\n",
      " [11 26 25 36 25]\n"
     ]
    }
   ],
   "source": [
    "# Form an nx32x32x1 nparray as input.\n",
    "input_img_arr = np.array(img_list, dtype=np.int32)\n",
    "input_img_arr = input_img_arr[:, :, :, np.newaxis]\n",
    "\n",
    "tf_softmax = tf.nn.softmax(tf_logits)\n",
    "\n",
    "# Feed the input into the model\n",
    "with tf.compat.v1.Session() as sess:\n",
    "    saver.restore(sess, tf.train.latest_checkpoint('./lenet_tf_ckpts'))\n",
    "    logits_predicted = sess.run(tf_logits, feed_dict={x:input_img_arr, keep_prob:1})\n",
    "    softmax_predicted = sess.run(tf_softmax, feed_dict={x:input_img_arr, keep_prob:1})\n",
    "\n",
    "# Print the result logits\n",
    "\n",
    "prediction = np.argmax(softmax_predicted, axis=1)\n",
    "# print(softmax_pricted)\n",
    "print(\"The predicted classes for 5 new images are:\\n\", prediction)"
   ]
  },
  {
   "cell_type": "markdown",
   "metadata": {},
   "source": [
    "### Analyze Performance"
   ]
  },
  {
   "cell_type": "code",
   "execution_count": 24,
   "metadata": {
    "collapsed": true
   },
   "outputs": [
    {
     "name": "stdout",
     "output_type": "stream",
     "text": [
      "The accuracy in predicting the 5 new images is: 40.0 %\n"
     ]
    }
   ],
   "source": [
    "### Calculate the accuracy for these 5 new images.\n",
    "accuracy_5_img = np.sum(prediction==accurate_pred)\n",
    "\n",
    "print(\"The accuracy in predicting the 5 new images is:\", 100 * accuracy_5_img/accurate_pred.size, \"%\")"
   ]
  },
  {
   "cell_type": "markdown",
   "metadata": {},
   "source": [
    "### Output Top 5 Softmax Probabilities For Each Image Found on the Web"
   ]
  },
  {
   "cell_type": "code",
   "execution_count": 25,
   "metadata": {
    "collapsed": true,
    "pycharm": {
     "name": "#%%\n"
    }
   },
   "outputs": [
    {
     "name": "stdout",
     "output_type": "stream",
     "text": [
      "For image  0 , the top 5 softmax values are:\n",
      " [1. 0. 0. 0. 0.]\n",
      "With the corresponding indices:\n",
      " [11 30 21 27 24] \n",
      "\n",
      "For image  1 , the top 5 softmax values are:\n",
      " [0.186 0.135 0.135 0.109 0.084]\n",
      "With the corresponding indices:\n",
      " [26 31 14 39 33] \n",
      "\n",
      "For image  2 , the top 5 softmax values are:\n",
      " [1. 0. 0. 0. 0.]\n",
      "With the corresponding indices:\n",
      " [25 26 30 20 24] \n",
      "\n",
      "For image  3 , the top 5 softmax values are:\n",
      " [0.494 0.465 0.023 0.008 0.007]\n",
      "With the corresponding indices:\n",
      " [36 35 33 13 12] \n",
      "\n",
      "For image  4 , the top 5 softmax values are:\n",
      " [1. 0. 0. 0. 0.]\n",
      "With the corresponding indices:\n",
      " [25 12 13  3 36] \n",
      "\n"
     ]
    }
   ],
   "source": [
    "### Print out the top five softmax probabilities for the predictions on the German traffic sign images found on the web. \n",
    "### Feel free to use as many code cells as needed.\n",
    "with tf.compat.v1.Session() as sess:\n",
    "    top_values = sess.run(tf.nn.top_k(tf.constant(softmax_predicted), k=5))\n",
    "\n",
    "top_5_softmax = np.round(top_values.values, decimals=3)\n",
    "\n",
    "top_5_indices = top_values.indices\n",
    "\n",
    "for i in range(5):\n",
    "    print(\"For image \", i, \", the top 5 softmax values are:\\n\", top_5_softmax[i])\n",
    "    print(\"With the corresponding indices:\\n\", top_5_indices[i], '\\n')\n"
   ]
  }
 ],
 "metadata": {
  "anaconda-cloud": {},
  "kernelspec": {
   "name": "pycharm-bea5a715",
   "language": "python",
   "display_name": "PyCharm (Autonomous-Driving_Laneline_Detection_LixingZhang)"
  },
  "language_info": {
   "codemirror_mode": {
    "name": "ipython",
    "version": 3
   },
   "file_extension": ".py",
   "mimetype": "text/x-python",
   "name": "python",
   "nbconvert_exporter": "python",
   "pygments_lexer": "ipython3",
   "version": "3.6.10"
  }
 },
 "nbformat": 4,
 "nbformat_minor": 1
}